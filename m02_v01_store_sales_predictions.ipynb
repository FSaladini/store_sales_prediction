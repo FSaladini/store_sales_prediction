{
 "cells": [
  {
   "cell_type": "markdown",
   "id": "15387583",
   "metadata": {},
   "source": [
    "# 0.0 - Imports"
   ]
  },
  {
   "cell_type": "code",
   "execution_count": 12,
   "id": "f7f326f2",
   "metadata": {
    "ExecuteTime": {
     "end_time": "2022-04-05T22:39:10.216924Z",
     "start_time": "2022-04-05T22:39:10.198937Z"
    }
   },
   "outputs": [],
   "source": [
    "import pandas as pd\n",
    "import inflection"
   ]
  },
  {
   "cell_type": "markdown",
   "id": "c969e654",
   "metadata": {},
   "source": [
    "## 0.1 - Helper Function"
   ]
  },
  {
   "cell_type": "code",
   "execution_count": null,
   "id": "b6452010",
   "metadata": {},
   "outputs": [],
   "source": []
  },
  {
   "cell_type": "markdown",
   "id": "83ac042d",
   "metadata": {},
   "source": [
    "## 0.2 - Loading data"
   ]
  },
  {
   "cell_type": "code",
   "execution_count": 6,
   "id": "c7c4e88e",
   "metadata": {
    "ExecuteTime": {
     "end_time": "2022-04-05T22:33:13.310987Z",
     "start_time": "2022-04-05T22:33:11.330756Z"
    }
   },
   "outputs": [],
   "source": [
    "df_sales_raw = pd.read_csv('Data/train.csv', low_memory = False)\n",
    "df_store_raw = pd.read_csv('Data/store.csv', low_memory = False)\n",
    "\n",
    "#merge\n",
    "df_raw = pd.merge(df_sales_raw, df_store_raw, how='left', on='Store')"
   ]
  },
  {
   "cell_type": "markdown",
   "id": "988c66fa",
   "metadata": {},
   "source": [
    "# 1.0 - Data description"
   ]
  },
  {
   "cell_type": "code",
   "execution_count": 8,
   "id": "be416490",
   "metadata": {
    "ExecuteTime": {
     "end_time": "2022-04-05T22:35:05.607072Z",
     "start_time": "2022-04-05T22:35:05.389209Z"
    }
   },
   "outputs": [],
   "source": [
    "df1= df_raw.copy()"
   ]
  },
  {
   "cell_type": "markdown",
   "id": "08cd9e33",
   "metadata": {
    "ExecuteTime": {
     "end_time": "2022-04-05T22:33:19.035811Z",
     "start_time": "2022-04-05T22:33:18.891899Z"
    }
   },
   "source": [
    "## 1.1 - Rename Columns"
   ]
  },
  {
   "cell_type": "code",
   "execution_count": 14,
   "id": "801e57d9",
   "metadata": {
    "ExecuteTime": {
     "end_time": "2022-04-05T22:40:13.277396Z",
     "start_time": "2022-04-05T22:40:13.258408Z"
    }
   },
   "outputs": [],
   "source": [
    "cols_old = ['Store', 'DayOfWeek', 'Date', 'Sales', 'Customers', 'Open', 'Promo',\n",
    "            'StateHoliday', 'SchoolHoliday', 'StoreType', 'Assortment',\n",
    "            'CompetitionDistance', 'CompetitionOpenSinceMonth',\n",
    "            'CompetitionOpenSinceYear', 'Promo2', 'Promo2SinceWeek',\n",
    "            'Promo2SinceYear', 'PromoInterval']\n",
    "\n",
    "snakecase = lambda x: inflection.underscore(x)\n",
    "\n",
    "cols_new = list(map( snakecase, cols_old))\n",
    "\n",
    "# rename\n",
    "df1.columns = cols_new"
   ]
  },
  {
   "cell_type": "markdown",
   "id": "6eecc6e8",
   "metadata": {},
   "source": [
    "## 1.2 - Data Dimention"
   ]
  },
  {
   "cell_type": "code",
   "execution_count": 16,
   "id": "8f64c69b",
   "metadata": {
    "ExecuteTime": {
     "end_time": "2022-04-05T22:42:41.080741Z",
     "start_time": "2022-04-05T22:42:41.063754Z"
    }
   },
   "outputs": [
    {
     "name": "stdout",
     "output_type": "stream",
     "text": [
      "Number of rows: 1017209\n",
      "Number of columns: 18\n"
     ]
    }
   ],
   "source": [
    "print ('Number of rows: {}'.format(df1.shape[0]))\n",
    "print ('Number of columns: {}'.format(df1.shape[1]))"
   ]
  },
  {
   "cell_type": "markdown",
   "id": "4e497e6c",
   "metadata": {},
   "source": [
    "## 1.3 - Data Types"
   ]
  },
  {
   "cell_type": "code",
   "execution_count": 22,
   "id": "43be9bd2",
   "metadata": {
    "ExecuteTime": {
     "end_time": "2022-04-05T22:46:01.038044Z",
     "start_time": "2022-04-05T22:46:00.761204Z"
    }
   },
   "outputs": [
    {
     "data": {
      "text/plain": [
       "store                                    int64\n",
       "day_of_week                              int64\n",
       "date                            datetime64[ns]\n",
       "sales                                    int64\n",
       "customers                                int64\n",
       "open                                     int64\n",
       "promo                                    int64\n",
       "state_holiday                           object\n",
       "school_holiday                           int64\n",
       "store_type                              object\n",
       "assortment                              object\n",
       "competition_distance                   float64\n",
       "competition_open_since_month           float64\n",
       "competition_open_since_year            float64\n",
       "promo2                                   int64\n",
       "promo2_since_week                      float64\n",
       "promo2_since_year                      float64\n",
       "promo_interval                          object\n",
       "dtype: object"
      ]
     },
     "execution_count": 22,
     "metadata": {},
     "output_type": "execute_result"
    }
   ],
   "source": [
    "df1['date'] = pd.to_datetime(df1['date'])\n",
    "df1.dtypes"
   ]
  },
  {
   "cell_type": "markdown",
   "id": "61e9812d",
   "metadata": {
    "ExecuteTime": {
     "end_time": "2022-04-05T22:46:37.315380Z",
     "start_time": "2022-04-05T22:46:37.308388Z"
    }
   },
   "source": [
    "## 1.4 - Check NA"
   ]
  },
  {
   "cell_type": "code",
   "execution_count": 24,
   "id": "3d40ad14",
   "metadata": {
    "ExecuteTime": {
     "end_time": "2022-04-05T22:47:01.383335Z",
     "start_time": "2022-04-05T22:47:00.308526Z"
    }
   },
   "outputs": [
    {
     "data": {
      "text/plain": [
       "store                                0\n",
       "day_of_week                          0\n",
       "date                                 0\n",
       "sales                                0\n",
       "customers                            0\n",
       "open                                 0\n",
       "promo                                0\n",
       "state_holiday                        0\n",
       "school_holiday                       0\n",
       "store_type                           0\n",
       "assortment                           0\n",
       "competition_distance              2642\n",
       "competition_open_since_month    323348\n",
       "competition_open_since_year     323348\n",
       "promo2                               0\n",
       "promo2_since_week               508031\n",
       "promo2_since_year               508031\n",
       "promo_interval                  508031\n",
       "dtype: int64"
      ]
     },
     "execution_count": 24,
     "metadata": {},
     "output_type": "execute_result"
    }
   ],
   "source": [
    "df1.isna().sum()"
   ]
  },
  {
   "cell_type": "code",
   "execution_count": null,
   "id": "9401eb01",
   "metadata": {},
   "outputs": [],
   "source": []
  },
  {
   "cell_type": "code",
   "execution_count": null,
   "id": "5c89c171",
   "metadata": {},
   "outputs": [],
   "source": []
  },
  {
   "cell_type": "code",
   "execution_count": null,
   "id": "e33ed1fb",
   "metadata": {},
   "outputs": [],
   "source": []
  },
  {
   "cell_type": "code",
   "execution_count": null,
   "id": "d1b46177",
   "metadata": {},
   "outputs": [],
   "source": []
  }
 ],
 "metadata": {
  "kernelspec": {
   "display_name": "Python 3 (ipykernel)",
   "language": "python",
   "name": "python3"
  },
  "language_info": {
   "codemirror_mode": {
    "name": "ipython",
    "version": 3
   },
   "file_extension": ".py",
   "mimetype": "text/x-python",
   "name": "python",
   "nbconvert_exporter": "python",
   "pygments_lexer": "ipython3",
   "version": "3.8.12"
  }
 },
 "nbformat": 4,
 "nbformat_minor": 5
}
